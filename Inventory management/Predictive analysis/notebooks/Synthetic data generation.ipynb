{
 "cells": [
  {
   "cell_type": "code",
   "execution_count": 3,
   "id": "19d3a7e2-432c-4e7f-ba64-7ddac1121e84",
   "metadata": {},
   "outputs": [],
   "source": [
    "import pandas as pd\n",
    "import numpy as np"
   ]
  },
  {
   "cell_type": "code",
   "execution_count": 9,
   "id": "5a48d46e-032b-418f-9fe2-3310f2385d0e",
   "metadata": {},
   "outputs": [],
   "source": [
    "df = pd.read_csv('../data/preprocessed/sales_and_purchase_prices.csv')\n",
    "df['SalesDate'] = pd.to_datetime(df['SalesDate'])"
   ]
  },
  {
   "cell_type": "code",
   "execution_count": 11,
   "id": "321626ba-a089-46b3-9e09-2b46505e7f19",
   "metadata": {},
   "outputs": [],
   "source": [
    "jan_feb = df[df['SalesDate'].dt.month.isin([1, 2])]"
   ]
  },
  {
   "cell_type": "code",
   "execution_count": 13,
   "id": "8001cef7-92ae-4df7-bfd4-f6f9c91e3258",
   "metadata": {},
   "outputs": [],
   "source": [
    "unique_products = jan_feb[['Brand', 'Description']].drop_duplicates()\n",
    "sampled_products = unique_products.sample(frac=0.5)"
   ]
  },
  {
   "cell_type": "code",
   "execution_count": 18,
   "id": "8347fa85-1e74-47d7-9b3f-618f7a0c7f7c",
   "metadata": {},
   "outputs": [],
   "source": [
    "filtered = jan_feb.merge(sampled_products, on=['Brand', 'Description'])\n",
    "mean_sales = filtered.groupby(['Brand', 'Description'])['SalesQuantity'].mean().reset_index()\n"
   ]
  },
  {
   "cell_type": "code",
   "execution_count": 20,
   "id": "9713b492-d018-4789-9616-e24c6c6bff0d",
   "metadata": {},
   "outputs": [],
   "source": [
    "date_range = pd.date_range('2016-03-01', '2018-02-28')"
   ]
  },
  {
   "cell_type": "code",
   "execution_count": 22,
   "id": "daf7a4f7-6358-4166-badc-987bbc8c2e11",
   "metadata": {},
   "outputs": [],
   "source": [
    "synthetic_data = []\n",
    "\n",
    "for _, row in mean_sales.iterrows():\n",
    "    for date in date_range:\n",
    "        weekday = date.weekday()\n",
    "        month = date.month\n",
    "\n",
    "        seasonal = 1.0\n",
    "        if weekday >= 5: seasonal *= 0.65\n",
    "        if month in [6, 7, 8]: seasonal *= np.random.uniform(1.3, 1.6)\n",
    "        elif month in [11, 12]: seasonal *= np.random.uniform(1.4, 1.8)\n",
    "        elif month in [1, 2]: seasonal *= np.random.uniform(0.8, 1.0)\n",
    "        else: seasonal *= np.random.uniform(0.9, 1.1)\n",
    "\n",
    "        qty = max(0, int(np.random.poisson(row['SalesQuantity'] * seasonal)))\n",
    "        if qty == 0:\n",
    "            continue\n",
    "\n",
    "        synthetic_data.append({\n",
    "            'Brand': row['Brand'],\n",
    "            'Description': row['Description'],\n",
    "            'SalesDate': date.strftime('%Y-%m-%d'),\n",
    "            'SalesQuantity': qty\n",
    "        })"
   ]
  },
  {
   "cell_type": "code",
   "execution_count": 24,
   "id": "f018cca8-1065-4a18-9194-a58859d87618",
   "metadata": {},
   "outputs": [],
   "source": [
    "df_synthetic = pd.DataFrame(synthetic_data)\n"
   ]
  },
  {
   "cell_type": "code",
   "execution_count": null,
   "id": "dc53a649-9f5e-4cb4-9a31-081b489a7509",
   "metadata": {},
   "outputs": [],
   "source": [
    "df_synthetic.to_csv('synthetic_sales_2_years.csv', index=False)"
   ]
  }
 ],
 "metadata": {
  "kernelspec": {
   "display_name": "Python [conda env:base] *",
   "language": "python",
   "name": "conda-base-py"
  },
  "language_info": {
   "codemirror_mode": {
    "name": "ipython",
    "version": 3
   },
   "file_extension": ".py",
   "mimetype": "text/x-python",
   "name": "python",
   "nbconvert_exporter": "python",
   "pygments_lexer": "ipython3",
   "version": "3.9.21"
  }
 },
 "nbformat": 4,
 "nbformat_minor": 5
}
